{
 "cells": [
  {
   "cell_type": "code",
   "execution_count": 16,
   "id": "b687f4ee-a72d-4e53-a3d0-adbfe21a2587",
   "metadata": {},
   "outputs": [],
   "source": [
    "# 2. Write a Python class for a `Car` with attributes for `make`, `model`, and `year`. Include a method to display the car's information."
   ]
  },
  {
   "cell_type": "code",
   "execution_count": 25,
   "id": "44d619e2-4c47-46e2-a385-d7fbb6b42e33",
   "metadata": {},
   "outputs": [
    {
     "name": "stdin",
     "output_type": "stream",
     "text": [
      "Car Company Name:  Honda\n",
      "Car Model name:  City\n",
      "Car Manufacturing year:  2020\n"
     ]
    },
    {
     "name": "stdout",
     "output_type": "stream",
     "text": [
      "\n",
      "Car Maker:  Honda \n",
      "Car Model:  City \n",
      "Car Year:  2020\n"
     ]
    }
   ],
   "source": [
    "# Ans\n",
    "class car:\n",
    "    def __init__(self, make, model, year):\n",
    "        self.make=make\n",
    "        self.model=model\n",
    "        self.year=year\n",
    "        \n",
    "    def info(self):\n",
    "        print(\"\\nCar Maker: \",self.make, \"\\nCar Model: \",self.model, \"\\nCar Year: \", self.year)\n",
    "\n",
    "a=input(\"Car Company Name: \")\n",
    "b=input(\"Car Model name: \")\n",
    "c=int(input(\"Car Manufacturing year: \"))\n",
    "vehi=car(a,b,c,)\n",
    "vehi.info()"
   ]
  },
  {
   "cell_type": "code",
   "execution_count": 17,
   "id": "9cf00e77-5815-433a-87f4-66a03bad5565",
   "metadata": {},
   "outputs": [],
   "source": [
    "# 3. Explain the difference between instance methods and class methods. Provide an example of each."
   ]
  },
  {
   "cell_type": "code",
   "execution_count": 28,
   "id": "39293063-ee5c-4303-904e-863f6973df61",
   "metadata": {},
   "outputs": [
    {
     "name": "stdin",
     "output_type": "stream",
     "text": [
      "Car Company Name:  Toyota\n",
      "Car Model name:  Fortuner\n",
      "Car Manufacturing year:  2024\n"
     ]
    },
    {
     "name": "stdout",
     "output_type": "stream",
     "text": [
      "Maker:  Toyota  Model:  Fortuner  Year:  2024\n"
     ]
    }
   ],
   "source": [
    "# Eg 1 : Instance\n",
    "class car:\n",
    "    def __init__(self, make, model, year):          # Instance\n",
    "        self.make=make\n",
    "        self.model=model\n",
    "        self.year=year\n",
    "        \n",
    "a=input(\"Car Company Name: \")\n",
    "b=input(\"Car Model name: \")\n",
    "c=int(input(\"Car Manufacturing year: \"))\n",
    "vehi = car(a,b,c,)\n",
    "print(\"Maker: \",vehi.make,\" Model: \",vehi.model,\" Year: \",vehi.year)"
   ]
  },
  {
   "cell_type": "code",
   "execution_count": 29,
   "id": "f35b3127-e6b0-4cde-b339-4dd75313af6b",
   "metadata": {},
   "outputs": [
    {
     "name": "stdin",
     "output_type": "stream",
     "text": [
      "Car Company Name:  Tata\n",
      "Car Model name:  Safari\n",
      "Car Manufacturing year:  2022\n"
     ]
    },
    {
     "name": "stdout",
     "output_type": "stream",
     "text": [
      "Car Maker:  Tata Car Model:  Safari Car Year:  2022\n"
     ]
    }
   ],
   "source": [
    "# Eg 2 : Method\n",
    "class car:\n",
    "    def __init__(self, make, model, year):\n",
    "        self.make=make\n",
    "        self.model=model\n",
    "        self.year=year\n",
    "        \n",
    "    def info(self):                              # Method\n",
    "        print(\"Car Maker: \",self.make, \"Car Model: \",self.model, \"Car Year: \", self.year)\n",
    "\n",
    "a=input(\"Car Company Name: \")\n",
    "b=input(\"Car Model name: \")\n",
    "c=int(input(\"Car Manufacturing year: \"))\n",
    "vehi=car(a,b,c,)\n",
    "vehi.info()"
   ]
  },
  {
   "cell_type": "code",
   "execution_count": 18,
   "id": "49ea0382-1c75-4c2d-8e1a-218e12fbda55",
   "metadata": {},
   "outputs": [],
   "source": [
    "# 4. How does Python implement method overloading? Give an example."
   ]
  },
  {
   "cell_type": "code",
   "execution_count": 15,
   "id": "b2513b12-77f1-4a9c-a0f6-1b8414f233ba",
   "metadata": {},
   "outputs": [
    {
     "name": "stdout",
     "output_type": "stream",
     "text": [
      "3rd triggered   \n"
     ]
    }
   ],
   "source": [
    "# Eg 1\n",
    "class study:\n",
    "    def stu(self):\n",
    "        print(\"1st one triggered\")\n",
    "    def stu(self, name =\"\"):\n",
    "        print(\"2nd Triggered \",name)\n",
    "    def stu(self, name=\"\", year=\"\"):\n",
    "        print(\"3rd triggered \", name, year)\n",
    "    \n",
    "mine=study()\n",
    "mine.stu()"
   ]
  },
  {
   "cell_type": "code",
   "execution_count": 18,
   "id": "475900bb-b4ea-4684-80d5-09b08f509013",
   "metadata": {},
   "outputs": [
    {
     "name": "stdout",
     "output_type": "stream",
     "text": [
      "Triggered  Hello \n"
     ]
    }
   ],
   "source": [
    "# Eg 2\n",
    "class study:\n",
    "    def stu(self, name=\"\", year=\"\"):\n",
    "        print(\"Triggered \", name, year)\n",
    "    \n",
    "mine=study()\n",
    "mine.stu(\"Hello\")"
   ]
  },
  {
   "cell_type": "code",
   "execution_count": 20,
   "id": "a15c587d-78e2-4a1d-b667-a83bca8b9179",
   "metadata": {},
   "outputs": [],
   "source": [
    "# 5. What are the three types of access modifiers in Python?"
   ]
  },
  {
   "cell_type": "code",
   "execution_count": 15,
   "id": "38ec7352-34ae-4bd9-abc8-1d3e45e40783",
   "metadata": {},
   "outputs": [
    {
     "name": "stdin",
     "output_type": "stream",
     "text": [
      "Enter name of the student:  Hello\n"
     ]
    },
    {
     "name": "stdout",
     "output_type": "stream",
     "text": [
      "Name:  Hello  Course Name:  Pw\n"
     ]
    }
   ],
   "source": [
    "# Eg Public\n",
    "course=\"Pw\"                            # Public\n",
    "class stud:\n",
    "    def deta(self,x):\n",
    "        print(\"Name: \",x,\" Course Name: \", course)\n",
    "\n",
    "na=input(\"Enter name of the student: \")\n",
    "ad=stud()\n",
    "ad.deta(na)"
   ]
  },
  {
   "cell_type": "code",
   "execution_count": 19,
   "id": "cc5d729f-4375-45ea-83dd-7490539301a5",
   "metadata": {
    "tags": []
   },
   "outputs": [],
   "source": [
    "# 6. Describe the five types of inheritance in Python. Provide a simple example of multiple inheritance."
   ]
  },
  {
   "cell_type": "code",
   "execution_count": 32,
   "id": "07778e8b-8e25-477a-b20c-8b42c53f4665",
   "metadata": {},
   "outputs": [
    {
     "name": "stdout",
     "output_type": "stream",
     "text": [
      "sub mera hai jyada mat bolo\n"
     ]
    }
   ],
   "source": [
    "# Eg\n",
    "class dadda:\n",
    "    def dadda_prop(self):\n",
    "        print(\"sub mera hai jyada mat bolo\")\n",
    "class papa(dadda):\n",
    "    def papa_prop(self):       \n",
    "        print(\"humne banaya sub\")\n",
    "class beta_beti(papa, dadda):\n",
    "    def beta_beti_prop(self):\n",
    "        print(\"Sub mere ko hi milega\")\n",
    "        \n",
    "prop=beta_beti()\n",
    "prop.dadda_prop()"
   ]
  },
  {
   "cell_type": "code",
   "execution_count": 22,
   "id": "1fbdd34a-e27d-422f-be67-0eea849c7037",
   "metadata": {},
   "outputs": [
    {
     "name": "stdout",
     "output_type": "stream",
     "text": [
      "Hello Pw\n"
     ]
    },
    {
     "ename": "AttributeError",
     "evalue": "'stud' object has no attribute '__course'",
     "output_type": "error",
     "traceback": [
      "\u001b[0;31m---------------------------------------------------------------------------\u001b[0m",
      "\u001b[0;31mAttributeError\u001b[0m                            Traceback (most recent call last)",
      "Cell \u001b[0;32mIn[22], line 11\u001b[0m\n\u001b[1;32m      9\u001b[0m stu\u001b[38;5;241m=\u001b[39mstud(\u001b[38;5;124m\"\u001b[39m\u001b[38;5;124mHello\u001b[39m\u001b[38;5;124m\"\u001b[39m, \u001b[38;5;124m\"\u001b[39m\u001b[38;5;124mPw\u001b[39m\u001b[38;5;124m\"\u001b[39m)\n\u001b[1;32m     10\u001b[0m stu\u001b[38;5;241m.\u001b[39mshow()\n\u001b[0;32m---> 11\u001b[0m \u001b[43mstu\u001b[49m\u001b[38;5;241;43m.\u001b[39;49m\u001b[43m__course\u001b[49m()                            \u001b[38;5;66;03m# as Encapsulated so it will give error\u001b[39;00m\n",
      "\u001b[0;31mAttributeError\u001b[0m: 'stud' object has no attribute '__course'"
     ]
    }
   ],
   "source": [
    "# Eg Private\n",
    "class stud:\n",
    "    def __init__(self, name, course):\n",
    "        self.name=name\n",
    "        self.__course=course             # Private\n",
    "    def show(self):\n",
    "        print(self.name, self.__course)\n",
    "\n",
    "stu=stud(\"Hello\", \"Pw\")\n",
    "stu.show()\n",
    "stu.__course()                            # as Encapsulated so it will give error"
   ]
  },
  {
   "cell_type": "code",
   "execution_count": 30,
   "id": "a345bb4d-db18-4b6e-93b2-336bc0792a66",
   "metadata": {},
   "outputs": [
    {
     "name": "stdout",
     "output_type": "stream",
     "text": [
      "Hello PW\n"
     ]
    },
    {
     "ename": "TypeError",
     "evalue": "'str' object is not callable",
     "output_type": "error",
     "traceback": [
      "\u001b[0;31m---------------------------------------------------------------------------\u001b[0m",
      "\u001b[0;31mTypeError\u001b[0m                                 Traceback (most recent call last)",
      "Cell \u001b[0;32mIn[30], line 15\u001b[0m\n\u001b[1;32m     13\u001b[0m st\u001b[38;5;241m=\u001b[39m stud(\u001b[38;5;124m\"\u001b[39m\u001b[38;5;124mHello\u001b[39m\u001b[38;5;124m\"\u001b[39m)\n\u001b[1;32m     14\u001b[0m st\u001b[38;5;241m.\u001b[39mshow()\n\u001b[0;32m---> 15\u001b[0m \u001b[43mst\u001b[49m\u001b[38;5;241;43m.\u001b[39;49m\u001b[43m_course\u001b[49m\u001b[43m(\u001b[49m\u001b[43m)\u001b[49m                          \u001b[38;5;66;03m# It is protected so will give error\u001b[39;00m\n",
      "\u001b[0;31mTypeError\u001b[0m: 'str' object is not callable"
     ]
    }
   ],
   "source": [
    "class package: \n",
    "    def __init__(self):\n",
    "        self._course=\"PW\"              #protected variable\n",
    "\n",
    "class stud(package):\n",
    "    def __init__(self, name):\n",
    "        self.name = name\n",
    "        super().__init__()\n",
    "        \n",
    "    def show(self):\n",
    "        print(self.name, self._course)\n",
    "        \n",
    "st= stud(\"Hello\")\n",
    "st.show()\n",
    "st._course()                          # It is protected so will give error"
   ]
  },
  {
   "cell_type": "code",
   "execution_count": 21,
   "id": "c1499b72-86bc-44ae-933d-27eff7d71626",
   "metadata": {},
   "outputs": [],
   "source": [
    "# 7. What is the Method Resolution Order (MRO) in Python? How can you retrieve it programmatically?"
   ]
  },
  {
   "cell_type": "code",
   "execution_count": 51,
   "id": "6993e052-3262-4868-a0e0-c879bef6dfbb",
   "metadata": {},
   "outputs": [
    {
     "name": "stdout",
     "output_type": "stream",
     "text": [
      "C\n"
     ]
    }
   ],
   "source": [
    "# Ans\n",
    "class a:\n",
    "    def mro(self):\n",
    "        print(\"A\")\n",
    "\n",
    "class b(a):\n",
    "    def mro(self):\n",
    "        print(\"B\")\n",
    "\n",
    "class c(a):\n",
    "    def mro(self):\n",
    "        print(\"C\")\n",
    "\n",
    "class d(c, b, a):\n",
    "    pass\n",
    "\n",
    "o=d()\n",
    "o.mro()"
   ]
  },
  {
   "cell_type": "code",
   "execution_count": 22,
   "id": "26d5ff9f-39b8-4f12-9975-b02bcaf73993",
   "metadata": {},
   "outputs": [],
   "source": [
    "# 8. Create an abstract base class `Shape` with an abstract method `area()`. Then create two subclasses `Circle` and `Rectangle` that implement the `area()` method."
   ]
  },
  {
   "cell_type": "code",
   "execution_count": 1,
   "id": "6ec12d7b-0081-43a0-ba2b-432e5c4e562f",
   "metadata": {},
   "outputs": [
    {
     "name": "stdin",
     "output_type": "stream",
     "text": [
      "1 for Circle, 2 for Rectangle:  2\n",
      "Enter the Length:  3\n",
      "Enter the Breadth:  4\n"
     ]
    },
    {
     "name": "stdout",
     "output_type": "stream",
     "text": [
      "Area of Rectangle with length  3  and breadth  4  is:  12\n"
     ]
    }
   ],
   "source": [
    "# Ans\n",
    "class shape:\n",
    "    def area(self):\n",
    "        return 0\n",
    "\n",
    "class cir(shape):\n",
    "    def __init__(self, radi):\n",
    "        self.radi = radi\n",
    "    def area(self):\n",
    "        are=(self.radi ** 2)*22/7\n",
    "        print(\"Area of Circle of Radius \",self.radi,\"is: \",are)\n",
    "\n",
    "class rect(shape):\n",
    "    def __init__(self, lent, bread):\n",
    "        self.lent=lent\n",
    "        self.bread=bread\n",
    "    def area(self):\n",
    "        are=self.lent * self.bread\n",
    "        print(\"Area of Rectangle with length \",self.lent,\" and breadth \",self.bread,\" is: \",are)\n",
    "        \n",
    "a=int(input(\"1 for Circle, 2 for Rectangle: \"))\n",
    "if a==1:\n",
    "    radi=int(input(\"Enter the radius: \"))\n",
    "    are=cir(radi)\n",
    "    are.area()\n",
    "elif a==2:\n",
    "    lent=int(input(\"Enter the Length: \"))\n",
    "    bread=int(input(\"Enter the Breadth: \"))\n",
    "    are=rect(lent,bread)\n",
    "    are.area()\n",
    "else:\n",
    "    print(\"Undefines input\")"
   ]
  },
  {
   "cell_type": "code",
   "execution_count": null,
   "id": "f81de05f-a28a-4dc3-93db-dce89681d0ce",
   "metadata": {},
   "outputs": [],
   "source": [
    "# 9. Demonstrate polymorphism by creating a function that can work with different shape objects to calculate and print their areas."
   ]
  },
  {
   "cell_type": "code",
   "execution_count": 2,
   "id": "3094d903-68ff-4252-94d6-5ab6051dd220",
   "metadata": {},
   "outputs": [
    {
     "name": "stdin",
     "output_type": "stream",
     "text": [
      "1 for Circle, 2 for Rectangle, 3 for Square, 4 for Triangle:  4\n",
      "Enter the base:  3\n",
      "Enter the heig:  4\n"
     ]
    },
    {
     "name": "stdout",
     "output_type": "stream",
     "text": [
      "Area of Rectangle with Base  3  and Height  4  is:  6.0\n"
     ]
    }
   ],
   "source": [
    "# Ans\n",
    "class shape:\n",
    "    def area(self):\n",
    "        return 0\n",
    "\n",
    "class cir(shape):\n",
    "    def __init__(self,radi):\n",
    "        self.radi=radi\n",
    "    def area(self):\n",
    "        are=(self.radi**2)*22/7\n",
    "        print(\"Area of Circle of Radius \",self.radi,\"is: \",are)\n",
    "\n",
    "class squ(shape):\n",
    "    def __init__(self,side):\n",
    "        self.side=side\n",
    "    def area(self):\n",
    "        are=self.side**2\n",
    "        print(\"Area of Square of side \",self.side,\"is: \",are)\n",
    "\n",
    "class rect(shape):\n",
    "    def __init__(self,lent,bread):\n",
    "        self.lent=lent\n",
    "        self.bread=bread\n",
    "    def area(self):\n",
    "        are=self.lent*self.bread\n",
    "        print(\"Area of Rectangle with length \",self.lent,\" and breadth \",self.bread,\" is: \",are)\n",
    "\n",
    "class tri(shape):\n",
    "    def __init__(self,bas,heig):\n",
    "        self.bas=bas\n",
    "        self.heig=heig\n",
    "    def area(self):\n",
    "        are=self.bas*self.heig/2\n",
    "        print(\"Area of Rectangle with Base \",self.bas,\" and Height \",self.heig,\" is: \",are)\n",
    "        \n",
    "a=int(input(\"1 for Circle, 2 for Rectangle, 3 for Square, 4 for Triangle: \"))\n",
    "if a==1:\n",
    "    radi=int(input(\"Enter the radius: \"))\n",
    "    are=cir(radi)\n",
    "    are.area()\n",
    "elif a==2:\n",
    "    lent=int(input(\"Enter the Length: \"))\n",
    "    bread=int(input(\"Enter the Breadth: \"))\n",
    "    are=rect(lent,bread)\n",
    "    are.area()\n",
    "elif a==3:\n",
    "    lent=int(input(\"Enter the side: \"))\n",
    "    are=sqa(lent)\n",
    "    are.area()\n",
    "elif a==4:\n",
    "    base=int(input(\"Enter the base: \"))\n",
    "    heig=int(input(\"Enter the heig: \"))\n",
    "    are=tri(base, heig)\n",
    "    are.area()\n",
    "else:\n",
    "    print(\"Undefines input\")"
   ]
  },
  {
   "cell_type": "code",
   "execution_count": 24,
   "id": "970226f5-37b9-454e-b8a1-019d8621a391",
   "metadata": {
    "tags": []
   },
   "outputs": [],
   "source": [
    "# 10. Implement encapsulation in a `BankAccount` class with private attributes for `balance` and `account_number`. Include methods for deposit, withdrawal, and balance inquiry."
   ]
  },
  {
   "cell_type": "code",
   "execution_count": 36,
   "id": "92baf305-1251-452c-886f-3bd61354ace2",
   "metadata": {},
   "outputs": [
    {
     "name": "stdin",
     "output_type": "stream",
     "text": [
      "Enter Account no of 8 digits:  12345678\n",
      "Enter initial amount of the bank account:  10000000\n"
     ]
    },
    {
     "name": "stdout",
     "output_type": "stream",
     "text": [
      "1 for amount withdraw\n",
      "2 for amount deposit\n",
      "3 for balalce enquiry \n"
     ]
    },
    {
     "name": "stdin",
     "output_type": "stream",
     "text": [
      "Enter your input:  2\n",
      "Enter the amount you want to deposit:  500\n"
     ]
    },
    {
     "name": "stdout",
     "output_type": "stream",
     "text": [
      "Amount deposited to Account No:  12345678  is:  500 \n",
      " New balace:  10000500\n"
     ]
    }
   ],
   "source": [
    "# Ans\n",
    "class bankaccount:\n",
    "    def __init__(self, acc_no, bal=0):\n",
    "        self.__acc_no=acc_no\n",
    "        self.__bal=bal\n",
    "    def deposit(self, amount):\n",
    "        if amount>0:\n",
    "            self.__bal+=amount\n",
    "            print(\"Amount deposited to Account No: \",self.__acc_no,\" is: \", amount, \"\\n New balace: \",self.__bal)\n",
    "        else:\n",
    "            print(\"Deposit amount must be positive.\")\n",
    "    def withdraw(self, amount):\n",
    "        if amount>0:\n",
    "            if amount<=self.__bal:\n",
    "                self.__bal-=amount\n",
    "                print(\"Amount withdrawn from Account No: \",self.__acc_no,\" is: \", amount, \"\\n New balace: \",self.__bal)\n",
    "            else:\n",
    "                print(\"Insufficient funds.\")\n",
    "        else:\n",
    "            print(\"Withdrawal amount must be positive.\")\n",
    "    def balance_inquiry(self):\n",
    "        print(\"The balance in \",self.__acc_no,\" is: \",self.__bal)\n",
    "\n",
    "accno=int(input(\"Enter Account no of 8 digits: \"))\n",
    "iniamou=int(input(\"Enter initial amount of the bank account: \"))\n",
    "account=bankaccount(accno,iniamou)\n",
    "print(\"1 for amount withdraw\\n2 for amount deposit\\n3 for balalce enquiry \")\n",
    "task=int(input(\"Enter your input: \"))\n",
    "if task==1:\n",
    "    amou=int(input(\"Enter the amount you want to withdraw: \"))\n",
    "    account.withdraw(amou)\n",
    "elif task==2:\n",
    "    amou=int(input(\"Enter the amount you want to deposit: \"))\n",
    "    account.deposit(amou)\n",
    "elif task==3:\n",
    "    account.balance_inquiry()\n",
    "else:\n",
    "    print(\"Invalid Input\")"
   ]
  },
  {
   "cell_type": "code",
   "execution_count": 25,
   "id": "d0e61de3-2fdb-4f69-a575-9e6608c83159",
   "metadata": {},
   "outputs": [],
   "source": [
    "# 11. Write a class that overrides the `__str__` and `__add__` magic methods. What will these methods allow you to do?"
   ]
  },
  {
   "cell_type": "code",
   "execution_count": 84,
   "id": "5b733925-41ba-4e25-a785-a38e05d8886a",
   "metadata": {},
   "outputs": [
    {
     "name": "stdout",
     "output_type": "stream",
     "text": [
      "Name: Hello, DoB: 1990\n"
     ]
    },
    {
     "data": {
      "text/plain": [
       "__main__.string"
      ]
     },
     "execution_count": 84,
     "metadata": {},
     "output_type": "execute_result"
    }
   ],
   "source": [
    "# Eg 1 '__str__'\n",
    "class string:\n",
    "    def __init__(self, name, dob):\n",
    "        self.name=name\n",
    "        self.dob=dob\n",
    "    def __str__(self):             # It return a string  representation of the output\n",
    "        return f\"Name: {self.name}, DoB: {self.dob}\"\n",
    "\n",
    "indi=string(\"Hello\", 1990)\n",
    "print(indi)\n",
    "type(indi)"
   ]
  },
  {
   "cell_type": "code",
   "execution_count": 111,
   "id": "0e7a902a-a712-4404-b1fc-1668e4f69893",
   "metadata": {},
   "outputs": [
    {
     "name": "stdin",
     "output_type": "stream",
     "text": [
      "Enter 1st no:  1\n",
      "Enter 2nd no:  2\n",
      "Enter 3rd no:  3\n",
      "Enter 4th no:  4\n"
     ]
    },
    {
     "name": "stdout",
     "output_type": "stream",
     "text": [
      "(4, 6)\n"
     ]
    }
   ],
   "source": [
    "# Eg 2 '__add__'\n",
    "class addition:\n",
    "    def __init__(self, x,y):\n",
    "        self.x=x\n",
    "        self.y=y\n",
    "    def __add__(self,you):       # addition of two instances' parameter wise\n",
    "        return self.x+you.x, self.y+you.y\n",
    "\n",
    "a=int(input(\"Enter 1st no: \"))\n",
    "b=int(input(\"Enter 2nd no: \"))\n",
    "c=int(input(\"Enter 3rd no: \"))\n",
    "d=int(input(\"Enter 4th no: \"))\n",
    "addi1=addition(a,b)\n",
    "addi2=addition(c,d)\n",
    "result=addi1+addi2\n",
    "print(result)"
   ]
  },
  {
   "cell_type": "code",
   "execution_count": 26,
   "id": "de4502bb-cb8b-4c60-96a4-79ba8136f05c",
   "metadata": {
    "tags": []
   },
   "outputs": [],
   "source": [
    "# 12. Create a decorator that measures and prints the execution time of a function."
   ]
  },
  {
   "cell_type": "code",
   "execution_count": null,
   "id": "12bca74d-dc5a-4dab-901c-79d32487e39f",
   "metadata": {},
   "outputs": [],
   "source": [
    "# Ans\n",
    "# Unable to do this"
   ]
  },
  {
   "cell_type": "code",
   "execution_count": 71,
   "id": "ae0951ea-ac72-4e70-a00e-00d733d514be",
   "metadata": {},
   "outputs": [],
   "source": [
    "# 14. Write a class method that keeps track of the number of instances created from a class."
   ]
  },
  {
   "cell_type": "code",
   "execution_count": 72,
   "id": "de25291b-c94e-47d2-b91d-42d27460a892",
   "metadata": {},
   "outputs": [
    {
     "name": "stdout",
     "output_type": "stream",
     "text": [
      "Instance Count:  4\n"
     ]
    }
   ],
   "source": [
    "class instancecount:\n",
    "    insta_count = 0\n",
    "    def __init__(self):\n",
    "        instancecount.insta_count += 1\n",
    "    @classmethod\n",
    "    def display(cls):\n",
    "        return cls.insta_count\n",
    "    \n",
    "a=instancecount()\n",
    "b=instancecount()\n",
    "c=instancecount()\n",
    "d=instancecount()\n",
    "print(\"Instance Count: \", instancecount.display())"
   ]
  },
  {
   "cell_type": "code",
   "execution_count": 28,
   "id": "4a61ed6f-1063-4951-93de-4aab0f3c6fbc",
   "metadata": {},
   "outputs": [],
   "source": [
    "# 15. Implement a static method in a class that checks if a given year is a leap year."
   ]
  },
  {
   "cell_type": "code",
   "execution_count": 31,
   "id": "ec884e73-9411-4ec5-967b-7c58fe06066b",
   "metadata": {},
   "outputs": [
    {
     "name": "stdin",
     "output_type": "stream",
     "text": [
      "Enter a year:  1996\n"
     ]
    },
    {
     "name": "stdout",
     "output_type": "stream",
     "text": [
      "1996 is a leap year\n"
     ]
    }
   ],
   "source": [
    "# Ans\n",
    "class year:\n",
    "    @staticmethod\n",
    "    def leap(year):\n",
    "        if (year%4==0 and (year%100!=0 or year%400==0)):\n",
    "            print(year, \"is a leap year\")\n",
    "        else:\n",
    "            print(year, \"is not a leap year\")\n",
    "\n",
    "yr=int(input(\"Enter a year: \"))\n",
    "year.leap(yr)"
   ]
  }
 ],
 "metadata": {
  "kernelspec": {
   "display_name": "Python 3 (ipykernel)",
   "language": "python",
   "name": "python3"
  },
  "language_info": {
   "codemirror_mode": {
    "name": "ipython",
    "version": 3
   },
   "file_extension": ".py",
   "mimetype": "text/x-python",
   "name": "python",
   "nbconvert_exporter": "python",
   "pygments_lexer": "ipython3",
   "version": "3.10.8"
  }
 },
 "nbformat": 4,
 "nbformat_minor": 5
}
